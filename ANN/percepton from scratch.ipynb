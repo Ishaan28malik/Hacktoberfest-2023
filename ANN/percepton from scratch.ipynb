{
 "cells": [
  {
   "cell_type": "code",
   "execution_count": 22,
   "metadata": {
    "id": "xwNhk8ll8Inm"
   },
   "outputs": [],
   "source": [
    "import numpy as np\n",
    "import pandas as pd\n",
    "import matplotlib.pyplot as plt\n"
   ]
  },
  {
   "cell_type": "code",
   "execution_count": 31,
   "metadata": {
    "id": "z3GdUeNo5PE-"
   },
   "outputs": [],
   "source": [
    "class Perceptron:\n",
    "  def __init__(self, eta, epochs, activationFunction):\n",
    "    self.weights = np.random.randn(3) * 1e-4\n",
    "    print(f\"self.weights: {self.weights}\")\n",
    "    self.eta = eta\n",
    "    self.epochs = epochs\n",
    "    self.activationFunction = activationFunction\n",
    "\n",
    "  def fit(self, X, y):\n",
    "    self.X = X\n",
    "    self.y = y\n",
    "\n",
    "    X_with_bias = np.c_[self.X, -np.ones((len(self.X), 1))] # concactination\n",
    "    print(f\"X_with_bias: \\n{X_with_bias}\")\n",
    "\n",
    "    for epoch in range(1,self.epochs):\n",
    "      print(f\"for epoch: {epoch}\")\n",
    "      y_hat = self.activationFunction(X_with_bias, self.weights)\n",
    "      print(f\"predicted value: \\n{y_hat}\")\n",
    "      error = self.y - y_hat\n",
    "      print(f\"error: \\n{error}\")\n",
    "      self.weights = self.weights + self.eta * np.dot(X_with_bias.T, error)\n",
    "      print(f\"updated weights: \\n{self.weights}\")\n",
    "      print(\"~~~~~~~~~~~~~~~~~~~~~\\n\")\n",
    "\n",
    "  def predict(self, X):\n",
    "    X_with_bias = np.c_[X, -np.ones((len(self.X), 1))]\n",
    "    return self.activationFunction(X_with_bias, self.weights)\n"
   ]
  },
  {
   "cell_type": "code",
   "execution_count": 32,
   "metadata": {
    "id": "7eZsLQgC8-vJ"
   },
   "outputs": [],
   "source": [
    "activationFunction = lambda inputs, weights: np.where(np.dot(inputs, weights) > 0 , 1, 0)"
   ]
  },
  {
   "cell_type": "code",
   "execution_count": 33,
   "metadata": {
    "colab": {
     "base_uri": "https://localhost:8080/",
     "height": 234
    },
    "id": "Y7SPY651uT_-",
    "outputId": "c5336f83-e837-4ade-c121-9c7db5b94d4b"
   },
   "outputs": [
    {
     "data": {
      "text/html": [
       "<div>\n",
       "<style scoped>\n",
       "    .dataframe tbody tr th:only-of-type {\n",
       "        vertical-align: middle;\n",
       "    }\n",
       "\n",
       "    .dataframe tbody tr th {\n",
       "        vertical-align: top;\n",
       "    }\n",
       "\n",
       "    .dataframe thead th {\n",
       "        text-align: right;\n",
       "    }\n",
       "</style>\n",
       "<table border=\"1\" class=\"dataframe\">\n",
       "  <thead>\n",
       "    <tr style=\"text-align: right;\">\n",
       "      <th></th>\n",
       "      <th>x1</th>\n",
       "      <th>x2</th>\n",
       "      <th>y</th>\n",
       "    </tr>\n",
       "  </thead>\n",
       "  <tbody>\n",
       "    <tr>\n",
       "      <th>0</th>\n",
       "      <td>1</td>\n",
       "      <td>1</td>\n",
       "      <td>1</td>\n",
       "    </tr>\n",
       "    <tr>\n",
       "      <th>1</th>\n",
       "      <td>1</td>\n",
       "      <td>0</td>\n",
       "      <td>1</td>\n",
       "    </tr>\n",
       "    <tr>\n",
       "      <th>2</th>\n",
       "      <td>0</td>\n",
       "      <td>1</td>\n",
       "      <td>0</td>\n",
       "    </tr>\n",
       "    <tr>\n",
       "      <th>3</th>\n",
       "      <td>-1</td>\n",
       "      <td>-1</td>\n",
       "      <td>0</td>\n",
       "    </tr>\n",
       "    <tr>\n",
       "      <th>4</th>\n",
       "      <td>-1</td>\n",
       "      <td>0</td>\n",
       "      <td>0</td>\n",
       "    </tr>\n",
       "    <tr>\n",
       "      <th>5</th>\n",
       "      <td>-1</td>\n",
       "      <td>1</td>\n",
       "      <td>0</td>\n",
       "    </tr>\n",
       "  </tbody>\n",
       "</table>\n",
       "</div>"
      ],
      "text/plain": [
       "   x1  x2  y\n",
       "0   1   1  1\n",
       "1   1   0  1\n",
       "2   0   1  0\n",
       "3  -1  -1  0\n",
       "4  -1   0  0\n",
       "5  -1   1  0"
      ]
     },
     "execution_count": 33,
     "metadata": {},
     "output_type": "execute_result"
    }
   ],
   "source": [
    "data={\"x1\": [1,1,0,-1,-1,-1], \"x2\": [1,0,1,-1,0,1],\"y\": [1,1,0,0,0,0]}\n",
    "inp = pd.DataFrame(data)\n",
    "inp"
   ]
  },
  {
   "cell_type": "code",
   "execution_count": 34,
   "metadata": {
    "colab": {
     "base_uri": "https://localhost:8080/",
     "height": 234
    },
    "id": "gMaGRXYyuhlB",
    "outputId": "cb8ec1fd-7e31-4703-b267-da077a22250c"
   },
   "outputs": [
    {
     "data": {
      "text/html": [
       "<div>\n",
       "<style scoped>\n",
       "    .dataframe tbody tr th:only-of-type {\n",
       "        vertical-align: middle;\n",
       "    }\n",
       "\n",
       "    .dataframe tbody tr th {\n",
       "        vertical-align: top;\n",
       "    }\n",
       "\n",
       "    .dataframe thead th {\n",
       "        text-align: right;\n",
       "    }\n",
       "</style>\n",
       "<table border=\"1\" class=\"dataframe\">\n",
       "  <thead>\n",
       "    <tr style=\"text-align: right;\">\n",
       "      <th></th>\n",
       "      <th>x1</th>\n",
       "      <th>x2</th>\n",
       "    </tr>\n",
       "  </thead>\n",
       "  <tbody>\n",
       "    <tr>\n",
       "      <th>0</th>\n",
       "      <td>1</td>\n",
       "      <td>1</td>\n",
       "    </tr>\n",
       "    <tr>\n",
       "      <th>1</th>\n",
       "      <td>1</td>\n",
       "      <td>0</td>\n",
       "    </tr>\n",
       "    <tr>\n",
       "      <th>2</th>\n",
       "      <td>0</td>\n",
       "      <td>1</td>\n",
       "    </tr>\n",
       "    <tr>\n",
       "      <th>3</th>\n",
       "      <td>-1</td>\n",
       "      <td>-1</td>\n",
       "    </tr>\n",
       "    <tr>\n",
       "      <th>4</th>\n",
       "      <td>-1</td>\n",
       "      <td>0</td>\n",
       "    </tr>\n",
       "    <tr>\n",
       "      <th>5</th>\n",
       "      <td>-1</td>\n",
       "      <td>1</td>\n",
       "    </tr>\n",
       "  </tbody>\n",
       "</table>\n",
       "</div>"
      ],
      "text/plain": [
       "   x1  x2\n",
       "0   1   1\n",
       "1   1   0\n",
       "2   0   1\n",
       "3  -1  -1\n",
       "4  -1   0\n",
       "5  -1   1"
      ]
     },
     "execution_count": 34,
     "metadata": {},
     "output_type": "execute_result"
    }
   ],
   "source": [
    "X = inp.drop(\"y\", axis=1) # axis = 1 >>> dropping accross column\n",
    "X"
   ]
  },
  {
   "cell_type": "code",
   "execution_count": 35,
   "metadata": {
    "colab": {
     "base_uri": "https://localhost:8080/",
     "height": 234
    },
    "id": "mGJ8FVA2unQY",
    "outputId": "e2af69b2-f3f6-4437-d5e0-cbd21fdeb12c"
   },
   "outputs": [
    {
     "data": {
      "text/html": [
       "<div>\n",
       "<style scoped>\n",
       "    .dataframe tbody tr th:only-of-type {\n",
       "        vertical-align: middle;\n",
       "    }\n",
       "\n",
       "    .dataframe tbody tr th {\n",
       "        vertical-align: top;\n",
       "    }\n",
       "\n",
       "    .dataframe thead th {\n",
       "        text-align: right;\n",
       "    }\n",
       "</style>\n",
       "<table border=\"1\" class=\"dataframe\">\n",
       "  <thead>\n",
       "    <tr style=\"text-align: right;\">\n",
       "      <th></th>\n",
       "      <th>y</th>\n",
       "    </tr>\n",
       "  </thead>\n",
       "  <tbody>\n",
       "    <tr>\n",
       "      <th>0</th>\n",
       "      <td>1</td>\n",
       "    </tr>\n",
       "    <tr>\n",
       "      <th>1</th>\n",
       "      <td>1</td>\n",
       "    </tr>\n",
       "    <tr>\n",
       "      <th>2</th>\n",
       "      <td>0</td>\n",
       "    </tr>\n",
       "    <tr>\n",
       "      <th>3</th>\n",
       "      <td>0</td>\n",
       "    </tr>\n",
       "    <tr>\n",
       "      <th>4</th>\n",
       "      <td>0</td>\n",
       "    </tr>\n",
       "    <tr>\n",
       "      <th>5</th>\n",
       "      <td>0</td>\n",
       "    </tr>\n",
       "  </tbody>\n",
       "</table>\n",
       "</div>"
      ],
      "text/plain": [
       "   y\n",
       "0  1\n",
       "1  1\n",
       "2  0\n",
       "3  0\n",
       "4  0\n",
       "5  0"
      ]
     },
     "execution_count": 35,
     "metadata": {},
     "output_type": "execute_result"
    }
   ],
   "source": [
    "y = inp['y']\n",
    "y.to_frame()"
   ]
  },
  {
   "cell_type": "code",
   "execution_count": 36,
   "metadata": {
    "colab": {
     "base_uri": "https://localhost:8080/"
    },
    "id": "uPdePT03EFw0",
    "outputId": "31b7437b-5eeb-4bcd-f5dd-bfcd616b8b7f"
   },
   "outputs": [
    {
     "name": "stdout",
     "output_type": "stream",
     "text": [
      "self.weights: [-2.42165037e-05 -2.15825272e-04  1.14973426e-04]\n"
     ]
    }
   ],
   "source": [
    "model = Perceptron(eta = 1, epochs=10, activationFunction=activationFunction)"
   ]
  },
  {
   "cell_type": "code",
   "execution_count": 37,
   "metadata": {
    "colab": {
     "base_uri": "https://localhost:8080/"
    },
    "id": "cn2K5oRCEtt9",
    "outputId": "f8eec7a4-80a1-45b4-a04c-c1e46f6e72da"
   },
   "outputs": [
    {
     "name": "stdout",
     "output_type": "stream",
     "text": [
      "X_with_bias: \n",
      "[[ 1.  1. -1.]\n",
      " [ 1.  0. -1.]\n",
      " [ 0.  1. -1.]\n",
      " [-1. -1. -1.]\n",
      " [-1.  0. -1.]\n",
      " [-1.  1. -1.]]\n",
      "for epoch: 1\n",
      "predicted value: \n",
      "[0 0 0 1 0 0]\n",
      "error: \n",
      "0    1\n",
      "1    1\n",
      "2    0\n",
      "3   -1\n",
      "4    0\n",
      "5    0\n",
      "Name: y, dtype: int64\n",
      "updated weights: \n",
      "[ 2.99997578  1.99978417 -0.99988503]\n",
      "~~~~~~~~~~~~~~~~~~~~~\n",
      "\n",
      "for epoch: 2\n",
      "predicted value: \n",
      "[1 1 1 0 0 0]\n",
      "error: \n",
      "0    0\n",
      "1    0\n",
      "2   -1\n",
      "3    0\n",
      "4    0\n",
      "5    0\n",
      "Name: y, dtype: int64\n",
      "updated weights: \n",
      "[2.99997578e+00 9.99784175e-01 1.14973426e-04]\n",
      "~~~~~~~~~~~~~~~~~~~~~\n",
      "\n",
      "for epoch: 3\n",
      "predicted value: \n",
      "[1 1 1 0 0 0]\n",
      "error: \n",
      "0    0\n",
      "1    0\n",
      "2   -1\n",
      "3    0\n",
      "4    0\n",
      "5    0\n",
      "Name: y, dtype: int64\n",
      "updated weights: \n",
      "[ 2.99997578e+00 -2.15825272e-04  1.00011497e+00]\n",
      "~~~~~~~~~~~~~~~~~~~~~\n",
      "\n",
      "for epoch: 4\n",
      "predicted value: \n",
      "[1 1 0 0 0 0]\n",
      "error: \n",
      "0    0\n",
      "1    0\n",
      "2    0\n",
      "3    0\n",
      "4    0\n",
      "5    0\n",
      "Name: y, dtype: int64\n",
      "updated weights: \n",
      "[ 2.99997578e+00 -2.15825272e-04  1.00011497e+00]\n",
      "~~~~~~~~~~~~~~~~~~~~~\n",
      "\n",
      "for epoch: 5\n",
      "predicted value: \n",
      "[1 1 0 0 0 0]\n",
      "error: \n",
      "0    0\n",
      "1    0\n",
      "2    0\n",
      "3    0\n",
      "4    0\n",
      "5    0\n",
      "Name: y, dtype: int64\n",
      "updated weights: \n",
      "[ 2.99997578e+00 -2.15825272e-04  1.00011497e+00]\n",
      "~~~~~~~~~~~~~~~~~~~~~\n",
      "\n",
      "for epoch: 6\n",
      "predicted value: \n",
      "[1 1 0 0 0 0]\n",
      "error: \n",
      "0    0\n",
      "1    0\n",
      "2    0\n",
      "3    0\n",
      "4    0\n",
      "5    0\n",
      "Name: y, dtype: int64\n",
      "updated weights: \n",
      "[ 2.99997578e+00 -2.15825272e-04  1.00011497e+00]\n",
      "~~~~~~~~~~~~~~~~~~~~~\n",
      "\n",
      "for epoch: 7\n",
      "predicted value: \n",
      "[1 1 0 0 0 0]\n",
      "error: \n",
      "0    0\n",
      "1    0\n",
      "2    0\n",
      "3    0\n",
      "4    0\n",
      "5    0\n",
      "Name: y, dtype: int64\n",
      "updated weights: \n",
      "[ 2.99997578e+00 -2.15825272e-04  1.00011497e+00]\n",
      "~~~~~~~~~~~~~~~~~~~~~\n",
      "\n",
      "for epoch: 8\n",
      "predicted value: \n",
      "[1 1 0 0 0 0]\n",
      "error: \n",
      "0    0\n",
      "1    0\n",
      "2    0\n",
      "3    0\n",
      "4    0\n",
      "5    0\n",
      "Name: y, dtype: int64\n",
      "updated weights: \n",
      "[ 2.99997578e+00 -2.15825272e-04  1.00011497e+00]\n",
      "~~~~~~~~~~~~~~~~~~~~~\n",
      "\n",
      "for epoch: 9\n",
      "predicted value: \n",
      "[1 1 0 0 0 0]\n",
      "error: \n",
      "0    0\n",
      "1    0\n",
      "2    0\n",
      "3    0\n",
      "4    0\n",
      "5    0\n",
      "Name: y, dtype: int64\n",
      "updated weights: \n",
      "[ 2.99997578e+00 -2.15825272e-04  1.00011497e+00]\n",
      "~~~~~~~~~~~~~~~~~~~~~\n",
      "\n"
     ]
    }
   ],
   "source": [
    "model.fit(X,y)"
   ]
  },
  {
   "cell_type": "code",
   "execution_count": 38,
   "metadata": {
    "colab": {
     "base_uri": "https://localhost:8080/"
    },
    "id": "LaxqFyX9Ew9D",
    "outputId": "28296a30-0f09-4363-bf18-15acf7b812d7"
   },
   "outputs": [
    {
     "data": {
      "text/plain": [
       "array([1, 1, 0, 0, 0, 0])"
      ]
     },
     "execution_count": 38,
     "metadata": {},
     "output_type": "execute_result"
    }
   ],
   "source": [
    "model.predict(X)"
   ]
  },
  {
   "cell_type": "code",
   "execution_count": 40,
   "metadata": {
    "colab": {
     "base_uri": "https://localhost:8080/",
     "height": 275
    },
    "id": "MKepi2boAdQP",
    "outputId": "4b341400-f696-4de6-b69e-9e9856cb8985"
   },
   "outputs": [
    {
     "data": {
      "text/plain": [
       "<matplotlib.lines.Line2D at 0x7f6f1e5f0e90>"
      ]
     },
     "execution_count": 40,
     "metadata": {},
     "output_type": "execute_result"
    },
    {
     "data": {
      "image/png": "[encoded data removed]",
      "text/plain": [
       "<Figure size 432x288 with 2 Axes>"
      ]
     },
     "metadata": {
      "needs_background": "light"
     },
     "output_type": "display_data"
    }
   ],
   "source": [
    "inp.plot(kind=\"scatter\", x=\"x1\", y=\"x2\", c=\"y\", s=100, cmap=\"winter\")\n",
    "plt.axhline(y=0, color=\"black\")\n",
    "plt.axvline(x=0, color=\"black\")"
   ]
  }
 ],
 "metadata": {
  "colab": {
   "collapsed_sections": [],
   "name": " ann_ex2.ipynb",
   "provenance": []
  },
  "kernelspec": {
   "display_name": "Python 3",
   "language": "python",
   "name": "python3"
  },
  "language_info": {
   "codemirror_mode": {
    "name": "ipython",
    "version": 3
   },
   "file_extension": ".py",
   "mimetype": "text/x-python",
   "name": "python",
   "nbconvert_exporter": "python",
   "pygments_lexer": "ipython3",
   "version": "3.9.0"
  }
 },
 "nbformat": 4,
 "nbformat_minor": 1
}
